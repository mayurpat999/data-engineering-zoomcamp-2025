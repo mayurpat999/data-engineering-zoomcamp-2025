{
 "cells": [
  {
   "cell_type": "code",
   "execution_count": 1,
   "id": "e06a69a4-3e89-41b5-b5a1-d78bd58d140d",
   "metadata": {},
   "outputs": [],
   "source": [
    "import pyspark\n",
    "from pyspark.sql import SparkSession, types\n",
    "from pyspark.sql import functions as F\n",
    "import glob\n",
    "import os"
   ]
  },
  {
   "cell_type": "code",
   "execution_count": 2,
   "id": "0c3f2b61-c6c7-4c18-b862-f7c2f5eba3b5",
   "metadata": {},
   "outputs": [
    {
     "name": "stdout",
     "output_type": "stream",
     "text": [
      "--2025-03-02 22:26:18--  https://d37ci6vzurychx.cloudfront.net/trip-data/yellow_tripdata_2024-10.parquet\n",
      "2600:9000:2365:5e00:b:20a5:b140:21, 2600:9000:2365:ba00:b:20a5:b140:21, 2600:9000:2365:7200:b:20a5:b140:21, ...\n",
      "connected. to d37ci6vzurychx.cloudfront.net (d37ci6vzurychx.cloudfront.net)|2600:9000:2365:5e00:b:20a5:b140:21|:443... \n",
      "HTTP request sent, awaiting response... 200 OK\n",
      "Length: 64346071 (61M) [binary/octet-stream]\n",
      "Saving to: ‘taxi_data/yellow_tripdata_2024-10.parquet’\n",
      "\n",
      "yellow_tripdata_202 100%[===================>]  61.36M  10.9MB/s    in 5.7s    \n",
      "\n",
      "2025-03-02 22:26:29 (10.7 MB/s) - ‘taxi_data/yellow_tripdata_2024-10.parquet’ saved [64346071/64346071]\n",
      "\n"
     ]
    }
   ],
   "source": [
    "!wget https://d37ci6vzurychx.cloudfront.net/trip-data/yellow_tripdata_2024-10.parquet  -P 'taxi_data/'"
   ]
  },
  {
   "cell_type": "markdown",
   "id": "f8bf5c23-57a5-499a-a641-638ba45d1cdb",
   "metadata": {},
   "source": [
    "### Question 1: Install Spark and PySpark\n",
    "* Install Spark\n",
    "* Run PySpark\n",
    "* Create a local spark session\n",
    "* Execute spark.version.\n",
    "What's the output?"
   ]
  },
  {
   "cell_type": "code",
   "execution_count": 3,
   "id": "879a0016-0e85-4625-b1d9-ee8bc1e35bff",
   "metadata": {},
   "outputs": [
    {
     "name": "stdout",
     "output_type": "stream",
     "text": [
      "25/03/02 22:26:30 WARN Utils: Your hostname, MauPC resolves to a loopback address: 127.0.1.1; using 192.168.1.73 instead (on interface enp5s0)\n",
      "25/03/02 22:26:30 WARN Utils: Set SPARK_LOCAL_IP if you need to bind to another address\n"
     ]
    },
    {
     "name": "stderr",
     "output_type": "stream",
     "text": [
      "Setting default log level to \"WARN\".\n",
      "To adjust logging level use sc.setLogLevel(newLevel). For SparkR, use setLogLevel(newLevel).\n"
     ]
    },
    {
     "name": "stdout",
     "output_type": "stream",
     "text": [
      "25/03/02 22:26:30 WARN NativeCodeLoader: Unable to load native-hadoop library for your platform... using builtin-java classes where applicable\n"
     ]
    }
   ],
   "source": [
    "spark = SparkSession.builder \\\n",
    "    .master(\"local[*]\") \\\n",
    "    .appName('test') \\\n",
    "    .config(\"spark.sql.catalogImplementation\", \"in-memory\") \\\n",
    "    .getOrCreate()\n",
    "\n"
   ]
  },
  {
   "cell_type": "code",
   "execution_count": 4,
   "id": "7f1935ea-0f66-49d8-bd57-b5b7ec90ae7b",
   "metadata": {},
   "outputs": [
    {
     "data": {
      "text/plain": [
       "'3.3.2'"
      ]
     },
     "execution_count": 4,
     "metadata": {},
     "output_type": "execute_result"
    }
   ],
   "source": [
    "pyspark.__version__"
   ]
  },
  {
   "cell_type": "markdown",
   "id": "4c3db6fe-82ed-4248-abe5-1a1e67562000",
   "metadata": {},
   "source": [
    "### Question 2: Yellow October 2024\n",
    "\n",
    "* Read the October 2024 Yellow into a Spark Dataframe.\n",
    "* Repartition the Dataframe to 4 partitions and save it to parquet.\n",
    "* What is the average size of the Parquet (ending with .parquet extension) Files that were created (in MB)? Select the answer which most closely matches."
   ]
  },
  {
   "cell_type": "code",
   "execution_count": 5,
   "id": "eefcd092-0ac9-4e0d-b116-15c3618eaea1",
   "metadata": {},
   "outputs": [],
   "source": [
    "df = spark.read \\\n",
    "    .parquet('taxi_data/yellow_tripdata_2024-10.parquet')"
   ]
  },
  {
   "cell_type": "code",
   "execution_count": 6,
   "id": "c420f79b-0215-4bf5-a78f-24ed96a0f280",
   "metadata": {},
   "outputs": [],
   "source": [
    "df = df.repartition(4)"
   ]
  },
  {
   "cell_type": "code",
   "execution_count": 7,
   "id": "412747a5-64e1-462f-a6b5-f5a4090a5290",
   "metadata": {},
   "outputs": [
    {
     "name": "stderr",
     "output_type": "stream",
     "text": [
      "                                                                                "
     ]
    }
   ],
   "source": [
    "partitions_path = r'taxi_data/partitions/'\n",
    "df.write.parquet(partitions_path)"
   ]
  },
  {
   "cell_type": "code",
   "execution_count": 8,
   "id": "9cd85a45-fa0b-4c23-805e-9207dc8a9057",
   "metadata": {},
   "outputs": [
    {
     "name": "stdout",
     "output_type": "stream",
     "text": [
      "taxi_data/partitions/part-00000-2c81a725-9088-4623-91b4-d32118c84ae2-c000.snappy.parquet: 24.23 MB\n",
      "taxi_data/partitions/part-00002-2c81a725-9088-4623-91b4-d32118c84ae2-c000.snappy.parquet: 24.25 MB\n",
      "taxi_data/partitions/part-00003-2c81a725-9088-4623-91b4-d32118c84ae2-c000.snappy.parquet: 24.22 MB\n",
      "taxi_data/partitions/part-00001-2c81a725-9088-4623-91b4-d32118c84ae2-c000.snappy.parquet: 24.2 MB\n"
     ]
    }
   ],
   "source": [
    "parquet_files = glob.glob(f'{partitions_path}/*.parquet')\n",
    "for file in parquet_files:\n",
    "    file_size = os.path.getsize(file)/1024/1024\n",
    "    print(f'{file}: {round(file_size, 2)} MB')"
   ]
  },
  {
   "cell_type": "markdown",
   "id": "595ef43e-b806-4a27-9b72-79643bde96d3",
   "metadata": {},
   "source": [
    "### Question 3: Count records\n",
    "\n",
    "How many taxi trips were there on the 15th of October?\n",
    "\n",
    "Consider only trips that started on the 15th of October."
   ]
  },
  {
   "cell_type": "code",
   "execution_count": 9,
   "id": "22d547f3-0304-485b-8146-4cc5b06310ef",
   "metadata": {},
   "outputs": [
    {
     "data": {
      "text/plain": [
       "128632"
      ]
     },
     "execution_count": 9,
     "metadata": {},
     "output_type": "execute_result"
    }
   ],
   "source": [
    "df \\\n",
    "    .withColumn('pickup_date', F.to_date(df.tpep_pickup_datetime))\\\n",
    "    .filter(\"pickup_date = '2024-10-15'\")\\\n",
    "    .count()"
   ]
  },
  {
   "cell_type": "markdown",
   "id": "45530987-f3a3-49a9-85a7-5833462f1a4f",
   "metadata": {},
   "source": [
    "### Question 4: Longest trip\n",
    "\n",
    "What is the length of the longest trip in the dataset in hours?"
   ]
  },
  {
   "cell_type": "code",
   "execution_count": 10,
   "id": "9123d2a4-1a73-4ea2-bb9b-88803ef9c4c9",
   "metadata": {},
   "outputs": [
    {
     "name": "stderr",
     "output_type": "stream",
     "text": [
      "[Stage 10:=============================================>          (13 + 3) / 16]"
     ]
    },
    {
     "name": "stdout",
     "output_type": "stream",
     "text": [
      "+------------------+\n",
      "|          duration|\n",
      "+------------------+\n",
      "|162.61777777777777|\n",
      "|           143.325|\n",
      "|137.76055555555556|\n",
      "|114.83472222222223|\n",
      "| 89.89833333333333|\n",
      "+------------------+\n",
      "\n"
     ]
    },
    {
     "name": "stderr",
     "output_type": "stream",
     "text": [
      "                                                                                "
     ]
    }
   ],
   "source": [
    "df \\\n",
    "    .withColumn('duration', (df.tpep_dropoff_datetime.cast('long') - \\\n",
    "                            df.tpep_pickup_datetime.cast('long'))/3600) \\\n",
    "    .orderBy('duration', ascending = False)\\\n",
    "    .select('duration')\\\n",
    "    .limit(5)\\\n",
    "    .show()"
   ]
  },
  {
   "cell_type": "markdown",
   "id": "89192854-8b03-47e1-884e-01a5d99e979b",
   "metadata": {},
   "source": [
    "### Question 5: User Interface\n",
    "Spark’s User Interface which shows the application's dashboard runs on which local port?"
   ]
  },
  {
   "cell_type": "markdown",
   "id": "9f8f8fce-c443-4e33-bf3b-350e36e1ccae",
   "metadata": {},
   "source": [
    "**Answer:** 4040"
   ]
  },
  {
   "cell_type": "markdown",
   "id": "d6942088-8aa8-4a12-9b41-26fceb65c749",
   "metadata": {},
   "source": [
    "### Question 6: Least frequent pickup location zone"
   ]
  },
  {
   "cell_type": "markdown",
   "id": "1c424396-5598-4c81-a9d5-3c3e512896db",
   "metadata": {},
   "source": [
    "Load the zone lookup data into a temp view in Spark:"
   ]
  },
  {
   "cell_type": "code",
   "execution_count": 11,
   "id": "b73c001c-8443-4468-938b-cd1f1cf9a953",
   "metadata": {},
   "outputs": [
    {
     "name": "stdout",
     "output_type": "stream",
     "text": [
      "--2025-03-02 22:26:41--  https://d37ci6vzurychx.cloudfront.net/misc/taxi_zone_lookup.csv\n",
      "2600:9000:2365:1a00:b:20a5:b140:21, 2600:9000:2365:ea00:b:20a5:b140:21, 2600:9000:2365:3c00:b:20a5:b140:21, ...\n",
      "connected. to d37ci6vzurychx.cloudfront.net (d37ci6vzurychx.cloudfront.net)|2600:9000:2365:1a00:b:20a5:b140:21|:443... \n",
      "HTTP request sent, awaiting response... 200 OK\n",
      "Length: 12331 (12K) [text/csv]\n",
      "Saving to: ‘taxi_data/taxi_zone_lookup.csv’\n",
      "\n",
      "taxi_zone_lookup.cs 100%[===================>]  12.04K  --.-KB/s    in 0.004s  \n",
      "\n",
      "2025-03-02 22:26:46 (2.79 MB/s) - ‘taxi_data/taxi_zone_lookup.csv’ saved [12331/12331]\n",
      "\n"
     ]
    }
   ],
   "source": [
    "!wget https://d37ci6vzurychx.cloudfront.net/misc/taxi_zone_lookup.csv -P 'taxi_data/'"
   ]
  },
  {
   "cell_type": "markdown",
   "id": "d27033e1-b040-4fbb-8562-f773529a07c2",
   "metadata": {},
   "source": [
    "Using the zone lookup data and the Yellow October 2024 data, what is the name of the LEAST frequent pickup location Zone?\n",
    "\n",
    "* Governor's Island/Ellis Island/Liberty Island\n",
    "* Arden Heights\n",
    "* Rikers Island\n",
    "* Jamaica Bay\n"
   ]
  },
  {
   "cell_type": "code",
   "execution_count": 12,
   "id": "70bad609-266a-4b29-8280-858f116d4bad",
   "metadata": {},
   "outputs": [],
   "source": [
    "zones_df = spark.read \\\n",
    "    .option('header', 'true')\\\n",
    "    .csv('taxi_data/taxi_zone_lookup.csv')"
   ]
  },
  {
   "cell_type": "code",
   "execution_count": 13,
   "id": "8e878f30-d7bc-4c53-a58b-e8eb760c3313",
   "metadata": {},
   "outputs": [],
   "source": [
    "df.createOrReplaceTempView('tripdata')\n",
    "zones_df.createOrReplaceTempView('zones')"
   ]
  },
  {
   "cell_type": "code",
   "execution_count": 14,
   "id": "a2e60b3f-e0ed-466b-b107-0616ba6dc3a8",
   "metadata": {},
   "outputs": [
    {
     "name": "stdout",
     "output_type": "stream",
     "text": [
      "+--------------------+----------+\n",
      "|                Zone|zone_count|\n",
      "+--------------------+----------+\n",
      "|Governor's Island...|         1|\n",
      "|       Arden Heights|         2|\n",
      "|       Rikers Island|         2|\n",
      "|         Jamaica Bay|         3|\n",
      "| Green-Wood Cemetery|         3|\n",
      "|Charleston/Totten...|         4|\n",
      "|       West Brighton|         4|\n",
      "|   Rossville/Woodrow|         4|\n",
      "|Eltingville/Annad...|         4|\n",
      "|       Port Richmond|         4|\n",
      "|        Crotona Park|         6|\n",
      "|         Great Kills|         6|\n",
      "|Heartland Village...|         7|\n",
      "|     Mariners Harbor|         7|\n",
      "|Saint George/New ...|         9|\n",
      "|             Oakwood|         9|\n",
      "|New Dorp/Midland ...|        10|\n",
      "|       Broad Channel|        10|\n",
      "|         Westerleigh|        12|\n",
      "|     Pelham Bay Park|        12|\n",
      "+--------------------+----------+\n",
      "only showing top 20 rows\n",
      "\n"
     ]
    }
   ],
   "source": [
    "spark.sql(\"\"\"\n",
    "    SELECT Zone, count(*) as zone_count\n",
    "    FROM (SELECT a.PULocationID, b.Zone\n",
    "            FROM tripdata a\n",
    "            INNER JOIN zones b ON a.PULocationID = b.LocationID)\n",
    "    GROUP BY Zone\n",
    "    ORDER BY zone_count asc\"\"\").show()"
   ]
  }
 ],
 "metadata": {
  "kernelspec": {
   "display_name": "Python 3 (ipykernel)",
   "language": "python",
   "name": "python3"
  },
  "language_info": {
   "codemirror_mode": {
    "name": "ipython",
    "version": 3
   },
   "file_extension": ".py",
   "mimetype": "text/x-python",
   "name": "python",
   "nbconvert_exporter": "python",
   "pygments_lexer": "ipython3",
   "version": "3.11.2"
  }
 },
 "nbformat": 4,
 "nbformat_minor": 5
}
